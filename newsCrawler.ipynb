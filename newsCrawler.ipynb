{
 "cells": [
  {
   "cell_type": "code",
   "execution_count": 16,
   "id": "9798f06f-b917-48aa-aff7-282f7a13c206",
   "metadata": {},
   "outputs": [
    {
     "ename": "KeyboardInterrupt",
     "evalue": "",
     "output_type": "error",
     "traceback": [
      "\u001b[0;31m---------------------------------------------------------------------------\u001b[0m",
      "\u001b[0;31mKeyboardInterrupt\u001b[0m                         Traceback (most recent call last)",
      "Cell \u001b[0;32mIn[16], line 11\u001b[0m\n\u001b[1;32m      8\u001b[0m driver\u001b[38;5;241m.\u001b[39mget(\u001b[38;5;124m'\u001b[39m\u001b[38;5;124mhttps://www.chainfeeds.xyz/\u001b[39m\u001b[38;5;124m'\u001b[39m)\n\u001b[1;32m     10\u001b[0m \u001b[38;5;66;03m# 等待 5 秒鐘\u001b[39;00m\n\u001b[0;32m---> 11\u001b[0m \u001b[43mtime\u001b[49m\u001b[38;5;241;43m.\u001b[39;49m\u001b[43msleep\u001b[49m\u001b[43m(\u001b[49m\u001b[38;5;241;43m5\u001b[39;49m\u001b[43m)\u001b[49m\n\u001b[1;32m     13\u001b[0m \u001b[38;5;66;03m# 找到並點擊 \"快讯\" 頁籤\u001b[39;00m\n\u001b[1;32m     14\u001b[0m kuaixun_tab \u001b[38;5;241m=\u001b[39m driver\u001b[38;5;241m.\u001b[39mfind_element(By\u001b[38;5;241m.\u001b[39mXPATH, \u001b[38;5;124m\"\u001b[39m\u001b[38;5;124m//div[contains(@class, \u001b[39m\u001b[38;5;124m'\u001b[39m\u001b[38;5;124mfeed_tabs_list_item_pc\u001b[39m\u001b[38;5;124m'\u001b[39m\u001b[38;5;124m) and text()=\u001b[39m\u001b[38;5;124m'\u001b[39m\u001b[38;5;124m快讯\u001b[39m\u001b[38;5;124m'\u001b[39m\u001b[38;5;124m]\u001b[39m\u001b[38;5;124m\"\u001b[39m)\n",
      "\u001b[0;31mKeyboardInterrupt\u001b[0m: "
     ]
    }
   ],
   "source": [
    "# Crawl 快讯\n",
    "\n",
    "from selenium import webdriver\n",
    "from selenium.webdriver.common.by import By\n",
    "import time\n",
    "import csv\n",
    "\n",
    "# 設置 WebDriver\n",
    "driver = webdriver.Chrome()\n",
    "\n",
    "# 打開目標網頁\n",
    "driver.get(\"https://www.chainfeeds.xyz/\")\n",
    "\n",
    "news_tab = driver.find_elements(By.CSS_SELECTOR, '.feed_tabs_list_item_pc')\n",
    "for tab in news_tab:\n",
    "    if \"快讯\" in tab.text:\n",
    "        tab.click()\n",
    "        break\n",
    "\n",
    "# 等待用戶輸入“start”\n",
    "input(\"輸入 'start' 開始抓取新聞內容：\")\n",
    "# 初始化 CSV 文件\n",
    "with open('news_content2.csv', mode='w', newline='', encoding='utf-8') as file:\n",
    "    writer = csv.writer(file)\n",
    "    writer.writerow([\"newsURL\", \"newsTitle\", \"newsContent\"])\n",
    "\n",
    "    # 獲取所有新聞元素\n",
    "    news_elements = driver.find_elements(By.CSS_SELECTOR, \".feed_content_box\")\n",
    "\n",
    "    # 遍歷每個新聞元素\n",
    "    for news in news_elements:\n",
    "        try:\n",
    "            # 提取新聞的 URL、標題和內容\n",
    "            news_url = news.find_element(By.TAG_NAME, \"a\").get_attribute(\"href\")\n",
    "            news_title = news.find_element(By.CLASS_NAME, \"feed_title_title\").text\n",
    "            news_content = news.find_element(By.CLASS_NAME, \"feed_abstract_text\").text\n",
    "\n",
    "            # 打印處理中的標題\n",
    "            print(f\"處理新聞：{news_title}\")\n",
    "\n",
    "            # 將新聞寫入 CSV 文件\n",
    "            writer.writerow([news_url, news_title, news_content])\n",
    "        except Exception as e:\n",
    "            print(f\"錯誤處理新聞：{e}\")\n",
    "\n",
    "# 關閉 WebDriver\n",
    "driver.quit()\n"
   ]
  },
  {
   "cell_type": "code",
   "execution_count": 22,
   "id": "21a6ad94-ea24-4a1d-8d75-a94ff24b49fc",
   "metadata": {},
   "outputs": [
    {
     "name": "stdout",
     "output_type": "stream",
     "text": [
      "沒有新新聞可供更新。\n"
     ]
    }
   ],
   "source": [
    "import pandas as pd\n",
    "from selenium import webdriver\n",
    "from selenium.webdriver.common.by import By\n",
    "import time\n",
    "\n",
    "# 初始化 WebDriver\n",
    "driver = webdriver.Chrome()\n",
    "\n",
    "# 打開目標網站\n",
    "driver.get('https://www.chainfeeds.xyz/')\n",
    "time.sleep(5)  # 等待 5 秒鐘\n",
    "\n",
    "# 切換到 \"快訊\" 選項\n",
    "news_tab = driver.find_elements(By.CSS_SELECTOR, '.feed_tabs_list_item_pc')\n",
    "for tab in news_tab:\n",
    "    if \"快讯\" in tab.text:\n",
    "        tab.click()\n",
    "        break\n",
    "\n",
    "time.sleep(5)  # 等待頁面加載\n",
    "\n",
    "# 讀取現有的 CSV 檔案\n",
    "try:\n",
    "    existing_data = pd.read_csv('news_content.csv', encoding='utf-8')\n",
    "    latest_recorded_url = existing_data.iloc[0]['newsURL'] if not existing_data.empty else None\n",
    "except FileNotFoundError:\n",
    "    existing_data = pd.DataFrame(columns=['newsURL', 'newsTitle', 'newsContent'])\n",
    "    latest_recorded_url = None\n",
    "\n",
    "# 爬取新聞\n",
    "news_data = []\n",
    "news_items = driver.find_elements(By.CLASS_NAME, 'feed_content_box')\n",
    "\n",
    "for news in news_items:\n",
    "    news_link = news.find_element(By.CSS_SELECTOR, 'a').get_attribute('href')\n",
    "    news_title = news.find_element(By.CLASS_NAME, 'feed_title_title').text\n",
    "    news_content = news.find_element(By.CLASS_NAME, 'feed_abstract_text').text\n",
    "    \n",
    "    if news_link == latest_recorded_url:\n",
    "        break\n",
    "    \n",
    "    news_data.append({'newsURL': news_link, 'newsTitle': news_title, 'newsContent': news_content})\n",
    "    print(f\"正在處理新聞標題: {news_title}\")\n",
    "\n",
    "# 如果有新的新聞，插入到 CSV 文件的開頭\n",
    "if news_data:\n",
    "    new_data_df = pd.DataFrame(news_data)\n",
    "    updated_data = pd.concat([new_data_df, existing_data], ignore_index=True)\n",
    "    updated_data.to_csv('news_content.csv', index=False, encoding='utf-8-sig')\n",
    "    print(\"已新增最新新聞到 CSV 文件。\")\n",
    "else:\n",
    "    print(\"沒有新新聞可供更新。\")\n",
    "\n",
    "# 關閉 WebDriver\n",
    "driver.quit()\n"
   ]
  },
  {
   "cell_type": "code",
   "execution_count": null,
   "id": "53856e0b-a4e6-4b04-9fd2-3193f2c8225e",
   "metadata": {},
   "outputs": [],
   "source": []
  }
 ],
 "metadata": {
  "kernelspec": {
   "display_name": "Python 3 (ipykernel)",
   "language": "python",
   "name": "python3"
  },
  "language_info": {
   "codemirror_mode": {
    "name": "ipython",
    "version": 3
   },
   "file_extension": ".py",
   "mimetype": "text/x-python",
   "name": "python",
   "nbconvert_exporter": "python",
   "pygments_lexer": "ipython3",
   "version": "3.8.19"
  }
 },
 "nbformat": 4,
 "nbformat_minor": 5
}
